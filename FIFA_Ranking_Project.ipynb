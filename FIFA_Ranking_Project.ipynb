{
 "cells": [
  {
   "cell_type": "markdown",
   "metadata": {},
   "source": [
    "# Section 1: Business Understanding  \n",
    "  \n",
    "  FIFA ranking is a ranking system for men’s national teams in association football. And fifa_ranking dataset has all national team ranking from 1993. This project will analyze the matches from results.csv dataset to see if the FIFA ranking has a correlation with matches results.\n",
    "## Questions:\n",
    "### - Does FIFA Ranking reflects the real results?\n",
    "### - What confederation has the most wins in the World Cup?\n",
    "### - Who are the most dominant World Cup winners of all-time?"
   ]
  },
  {
   "cell_type": "code",
   "execution_count": 5,
   "metadata": {},
   "outputs": [],
   "source": [
    "import numpy as np\n",
    "import pandas as pd\n",
    "import matplotlib.pyplot as plt\n",
    "import seaborn as sns\n",
    "%matplotlib inline"
   ]
  },
  {
   "cell_type": "markdown",
   "metadata": {},
   "source": [
    "# Section 2: Data Understanding  "
   ]
  },
  {
   "cell_type": "code",
   "execution_count": 6,
   "metadata": {},
   "outputs": [
    {
     "name": "stdout",
     "output_type": "stream",
     "text": [
      "(42650, 9)\n"
     ]
    },
    {
     "data": {
      "text/html": [
       "<div>\n",
       "<style scoped>\n",
       "    .dataframe tbody tr th:only-of-type {\n",
       "        vertical-align: middle;\n",
       "    }\n",
       "\n",
       "    .dataframe tbody tr th {\n",
       "        vertical-align: top;\n",
       "    }\n",
       "\n",
       "    .dataframe thead th {\n",
       "        text-align: right;\n",
       "    }\n",
       "</style>\n",
       "<table border=\"1\" class=\"dataframe\">\n",
       "  <thead>\n",
       "    <tr style=\"text-align: right;\">\n",
       "      <th></th>\n",
       "      <th>date</th>\n",
       "      <th>home_team</th>\n",
       "      <th>away_team</th>\n",
       "      <th>home_score</th>\n",
       "      <th>away_score</th>\n",
       "      <th>tournament</th>\n",
       "      <th>city</th>\n",
       "      <th>country</th>\n",
       "      <th>neutral</th>\n",
       "    </tr>\n",
       "  </thead>\n",
       "  <tbody>\n",
       "    <tr>\n",
       "      <th>0</th>\n",
       "      <td>1872-11-30</td>\n",
       "      <td>Scotland</td>\n",
       "      <td>England</td>\n",
       "      <td>0</td>\n",
       "      <td>0</td>\n",
       "      <td>Friendly</td>\n",
       "      <td>Glasgow</td>\n",
       "      <td>Scotland</td>\n",
       "      <td>False</td>\n",
       "    </tr>\n",
       "    <tr>\n",
       "      <th>1</th>\n",
       "      <td>1873-03-08</td>\n",
       "      <td>England</td>\n",
       "      <td>Scotland</td>\n",
       "      <td>4</td>\n",
       "      <td>2</td>\n",
       "      <td>Friendly</td>\n",
       "      <td>London</td>\n",
       "      <td>England</td>\n",
       "      <td>False</td>\n",
       "    </tr>\n",
       "    <tr>\n",
       "      <th>2</th>\n",
       "      <td>1874-03-07</td>\n",
       "      <td>Scotland</td>\n",
       "      <td>England</td>\n",
       "      <td>2</td>\n",
       "      <td>1</td>\n",
       "      <td>Friendly</td>\n",
       "      <td>Glasgow</td>\n",
       "      <td>Scotland</td>\n",
       "      <td>False</td>\n",
       "    </tr>\n",
       "    <tr>\n",
       "      <th>3</th>\n",
       "      <td>1875-03-06</td>\n",
       "      <td>England</td>\n",
       "      <td>Scotland</td>\n",
       "      <td>2</td>\n",
       "      <td>2</td>\n",
       "      <td>Friendly</td>\n",
       "      <td>London</td>\n",
       "      <td>England</td>\n",
       "      <td>False</td>\n",
       "    </tr>\n",
       "    <tr>\n",
       "      <th>4</th>\n",
       "      <td>1876-03-04</td>\n",
       "      <td>Scotland</td>\n",
       "      <td>England</td>\n",
       "      <td>3</td>\n",
       "      <td>0</td>\n",
       "      <td>Friendly</td>\n",
       "      <td>Glasgow</td>\n",
       "      <td>Scotland</td>\n",
       "      <td>False</td>\n",
       "    </tr>\n",
       "  </tbody>\n",
       "</table>\n",
       "</div>"
      ],
      "text/plain": [
       "         date home_team away_team  home_score  away_score tournament     city  \\\n",
       "0  1872-11-30  Scotland   England           0           0   Friendly  Glasgow   \n",
       "1  1873-03-08   England  Scotland           4           2   Friendly   London   \n",
       "2  1874-03-07  Scotland   England           2           1   Friendly  Glasgow   \n",
       "3  1875-03-06   England  Scotland           2           2   Friendly   London   \n",
       "4  1876-03-04  Scotland   England           3           0   Friendly  Glasgow   \n",
       "\n",
       "    country  neutral  \n",
       "0  Scotland    False  \n",
       "1   England    False  \n",
       "2  Scotland    False  \n",
       "3   England    False  \n",
       "4  Scotland    False  "
      ]
     },
     "execution_count": 6,
     "metadata": {},
     "output_type": "execute_result"
    }
   ],
   "source": [
    "df = pd.read_csv('./results.csv') # matches results dataframe\n",
    "fifa_ranking_df = pd.read_csv('./fifa_ranking.csv') # FIFA ranking dataframe\n",
    "\n",
    "print(df.shape)\n",
    "df.head()"
   ]
  },
  {
   "cell_type": "code",
   "execution_count": 7,
   "metadata": {},
   "outputs": [
    {
     "name": "stdout",
     "output_type": "stream",
     "text": [
      "(63054, 9)\n"
     ]
    },
    {
     "data": {
      "text/html": [
       "<div>\n",
       "<style scoped>\n",
       "    .dataframe tbody tr th:only-of-type {\n",
       "        vertical-align: middle;\n",
       "    }\n",
       "\n",
       "    .dataframe tbody tr th {\n",
       "        vertical-align: top;\n",
       "    }\n",
       "\n",
       "    .dataframe thead th {\n",
       "        text-align: right;\n",
       "    }\n",
       "</style>\n",
       "<table border=\"1\" class=\"dataframe\">\n",
       "  <thead>\n",
       "    <tr style=\"text-align: right;\">\n",
       "      <th></th>\n",
       "      <th>id</th>\n",
       "      <th>rank</th>\n",
       "      <th>country_full</th>\n",
       "      <th>country_abrv</th>\n",
       "      <th>total_points</th>\n",
       "      <th>previous_points</th>\n",
       "      <th>rank_change</th>\n",
       "      <th>confederation</th>\n",
       "      <th>rank_date</th>\n",
       "    </tr>\n",
       "  </thead>\n",
       "  <tbody>\n",
       "    <tr>\n",
       "      <th>0</th>\n",
       "      <td>43818</td>\n",
       "      <td>82</td>\n",
       "      <td>Iraq</td>\n",
       "      <td>IRQ</td>\n",
       "      <td>15</td>\n",
       "      <td>0</td>\n",
       "      <td>0</td>\n",
       "      <td>AFC</td>\n",
       "      <td>1992-12-31</td>\n",
       "    </tr>\n",
       "    <tr>\n",
       "      <th>1</th>\n",
       "      <td>43873</td>\n",
       "      <td>107</td>\n",
       "      <td>Mozambique</td>\n",
       "      <td>MOZ</td>\n",
       "      <td>9</td>\n",
       "      <td>0</td>\n",
       "      <td>0</td>\n",
       "      <td>CAF</td>\n",
       "      <td>1992-12-31</td>\n",
       "    </tr>\n",
       "    <tr>\n",
       "      <th>2</th>\n",
       "      <td>43816</td>\n",
       "      <td>108</td>\n",
       "      <td>Indonesia</td>\n",
       "      <td>IDN</td>\n",
       "      <td>9</td>\n",
       "      <td>0</td>\n",
       "      <td>0</td>\n",
       "      <td>AFC</td>\n",
       "      <td>1992-12-31</td>\n",
       "    </tr>\n",
       "    <tr>\n",
       "      <th>3</th>\n",
       "      <td>1882218</td>\n",
       "      <td>109</td>\n",
       "      <td>Antigua and Barbuda</td>\n",
       "      <td>ATG</td>\n",
       "      <td>8</td>\n",
       "      <td>0</td>\n",
       "      <td>0</td>\n",
       "      <td>CONCACAF</td>\n",
       "      <td>1992-12-31</td>\n",
       "    </tr>\n",
       "    <tr>\n",
       "      <th>4</th>\n",
       "      <td>43820</td>\n",
       "      <td>110</td>\n",
       "      <td>Jordan</td>\n",
       "      <td>JOR</td>\n",
       "      <td>8</td>\n",
       "      <td>0</td>\n",
       "      <td>0</td>\n",
       "      <td>AFC</td>\n",
       "      <td>1992-12-31</td>\n",
       "    </tr>\n",
       "  </tbody>\n",
       "</table>\n",
       "</div>"
      ],
      "text/plain": [
       "        id  rank         country_full country_abrv  total_points  \\\n",
       "0    43818    82                 Iraq          IRQ            15   \n",
       "1    43873   107           Mozambique          MOZ             9   \n",
       "2    43816   108            Indonesia          IDN             9   \n",
       "3  1882218   109  Antigua and Barbuda          ATG             8   \n",
       "4    43820   110               Jordan          JOR             8   \n",
       "\n",
       "   previous_points  rank_change confederation   rank_date  \n",
       "0                0            0           AFC  1992-12-31  \n",
       "1                0            0           CAF  1992-12-31  \n",
       "2                0            0           AFC  1992-12-31  \n",
       "3                0            0      CONCACAF  1992-12-31  \n",
       "4                0            0           AFC  1992-12-31  "
      ]
     },
     "execution_count": 7,
     "metadata": {},
     "output_type": "execute_result"
    }
   ],
   "source": [
    "print(fifa_ranking_df.shape)\n",
    "fifa_ranking_df.head()"
   ]
  },
  {
   "cell_type": "markdown",
   "metadata": {},
   "source": [
    "# Section 3: Data Preparing"
   ]
  },
  {
   "cell_type": "code",
   "execution_count": 8,
   "metadata": {},
   "outputs": [],
   "source": [
    "# Cleaning matches results\n",
    "df.drop(['city', 'country', 'neutral'], axis=1, inplace=True)\n",
    "df = df[df.tournament != 'Friendly']"
   ]
  },
  {
   "cell_type": "code",
   "execution_count": 9,
   "metadata": {},
   "outputs": [
    {
     "name": "stdout",
     "output_type": "stream",
     "text": [
      "(63054, 6)\n"
     ]
    },
    {
     "data": {
      "text/html": [
       "<div>\n",
       "<style scoped>\n",
       "    .dataframe tbody tr th:only-of-type {\n",
       "        vertical-align: middle;\n",
       "    }\n",
       "\n",
       "    .dataframe tbody tr th {\n",
       "        vertical-align: top;\n",
       "    }\n",
       "\n",
       "    .dataframe thead th {\n",
       "        text-align: right;\n",
       "    }\n",
       "</style>\n",
       "<table border=\"1\" class=\"dataframe\">\n",
       "  <thead>\n",
       "    <tr style=\"text-align: right;\">\n",
       "      <th></th>\n",
       "      <th>id</th>\n",
       "      <th>rank</th>\n",
       "      <th>country_full</th>\n",
       "      <th>total_points</th>\n",
       "      <th>confederation</th>\n",
       "      <th>rank_date</th>\n",
       "    </tr>\n",
       "  </thead>\n",
       "  <tbody>\n",
       "    <tr>\n",
       "      <th>0</th>\n",
       "      <td>43818</td>\n",
       "      <td>82</td>\n",
       "      <td>Iraq</td>\n",
       "      <td>15</td>\n",
       "      <td>AFC</td>\n",
       "      <td>1992-12-31</td>\n",
       "    </tr>\n",
       "    <tr>\n",
       "      <th>1</th>\n",
       "      <td>43873</td>\n",
       "      <td>107</td>\n",
       "      <td>Mozambique</td>\n",
       "      <td>9</td>\n",
       "      <td>CAF</td>\n",
       "      <td>1992-12-31</td>\n",
       "    </tr>\n",
       "    <tr>\n",
       "      <th>2</th>\n",
       "      <td>43816</td>\n",
       "      <td>108</td>\n",
       "      <td>Indonesia</td>\n",
       "      <td>9</td>\n",
       "      <td>AFC</td>\n",
       "      <td>1992-12-31</td>\n",
       "    </tr>\n",
       "    <tr>\n",
       "      <th>3</th>\n",
       "      <td>1882218</td>\n",
       "      <td>109</td>\n",
       "      <td>Antigua and Barbuda</td>\n",
       "      <td>8</td>\n",
       "      <td>CONCACAF</td>\n",
       "      <td>1992-12-31</td>\n",
       "    </tr>\n",
       "    <tr>\n",
       "      <th>4</th>\n",
       "      <td>43820</td>\n",
       "      <td>110</td>\n",
       "      <td>Jordan</td>\n",
       "      <td>8</td>\n",
       "      <td>AFC</td>\n",
       "      <td>1992-12-31</td>\n",
       "    </tr>\n",
       "  </tbody>\n",
       "</table>\n",
       "</div>"
      ],
      "text/plain": [
       "        id  rank         country_full  total_points confederation   rank_date\n",
       "0    43818    82                 Iraq            15           AFC  1992-12-31\n",
       "1    43873   107           Mozambique             9           CAF  1992-12-31\n",
       "2    43816   108            Indonesia             9           AFC  1992-12-31\n",
       "3  1882218   109  Antigua and Barbuda             8      CONCACAF  1992-12-31\n",
       "4    43820   110               Jordan             8           AFC  1992-12-31"
      ]
     },
     "execution_count": 9,
     "metadata": {},
     "output_type": "execute_result"
    }
   ],
   "source": [
    "# Cleaning FIFA ranking\n",
    "fifa_ranking_df.drop(['country_abrv', 'previous_points', 'rank_change'], axis=1, inplace=True)\n",
    "print(fifa_ranking_df.shape)\n",
    "fifa_ranking_df.head()"
   ]
  },
  {
   "cell_type": "code",
   "execution_count": 10,
   "metadata": {},
   "outputs": [
    {
     "name": "stdout",
     "output_type": "stream",
     "text": [
      "(15802, 6)\n"
     ]
    },
    {
     "data": {
      "text/html": [
       "<div>\n",
       "<style scoped>\n",
       "    .dataframe tbody tr th:only-of-type {\n",
       "        vertical-align: middle;\n",
       "    }\n",
       "\n",
       "    .dataframe tbody tr th {\n",
       "        vertical-align: top;\n",
       "    }\n",
       "\n",
       "    .dataframe thead th {\n",
       "        text-align: right;\n",
       "    }\n",
       "</style>\n",
       "<table border=\"1\" class=\"dataframe\">\n",
       "  <thead>\n",
       "    <tr style=\"text-align: right;\">\n",
       "      <th></th>\n",
       "      <th>date</th>\n",
       "      <th>home_team</th>\n",
       "      <th>away_team</th>\n",
       "      <th>home_score</th>\n",
       "      <th>away_score</th>\n",
       "      <th>tournament</th>\n",
       "    </tr>\n",
       "  </thead>\n",
       "  <tbody>\n",
       "    <tr>\n",
       "      <th>18135</th>\n",
       "      <td>1994-01-19</td>\n",
       "      <td>Suriname</td>\n",
       "      <td>French Guiana</td>\n",
       "      <td>1</td>\n",
       "      <td>0</td>\n",
       "      <td>CFU Caribbean Cup qualification</td>\n",
       "    </tr>\n",
       "    <tr>\n",
       "      <th>18137</th>\n",
       "      <td>1994-01-21</td>\n",
       "      <td>Guyana</td>\n",
       "      <td>French Guiana</td>\n",
       "      <td>1</td>\n",
       "      <td>1</td>\n",
       "      <td>CFU Caribbean Cup qualification</td>\n",
       "    </tr>\n",
       "    <tr>\n",
       "      <th>18139</th>\n",
       "      <td>1994-01-23</td>\n",
       "      <td>Barbados</td>\n",
       "      <td>Puerto Rico</td>\n",
       "      <td>0</td>\n",
       "      <td>1</td>\n",
       "      <td>CFU Caribbean Cup qualification</td>\n",
       "    </tr>\n",
       "    <tr>\n",
       "      <th>18142</th>\n",
       "      <td>1994-01-23</td>\n",
       "      <td>Suriname</td>\n",
       "      <td>Guyana</td>\n",
       "      <td>2</td>\n",
       "      <td>0</td>\n",
       "      <td>CFU Caribbean Cup qualification</td>\n",
       "    </tr>\n",
       "    <tr>\n",
       "      <th>18143</th>\n",
       "      <td>1994-01-25</td>\n",
       "      <td>Grenada</td>\n",
       "      <td>Puerto Rico</td>\n",
       "      <td>1</td>\n",
       "      <td>0</td>\n",
       "      <td>CFU Caribbean Cup qualification</td>\n",
       "    </tr>\n",
       "  </tbody>\n",
       "</table>\n",
       "</div>"
      ],
      "text/plain": [
       "             date home_team      away_team  home_score  away_score  \\\n",
       "18135  1994-01-19  Suriname  French Guiana           1           0   \n",
       "18137  1994-01-21    Guyana  French Guiana           1           1   \n",
       "18139  1994-01-23  Barbados    Puerto Rico           0           1   \n",
       "18142  1994-01-23  Suriname         Guyana           2           0   \n",
       "18143  1994-01-25   Grenada    Puerto Rico           1           0   \n",
       "\n",
       "                            tournament  \n",
       "18135  CFU Caribbean Cup qualification  \n",
       "18137  CFU Caribbean Cup qualification  \n",
       "18139  CFU Caribbean Cup qualification  \n",
       "18142  CFU Caribbean Cup qualification  \n",
       "18143  CFU Caribbean Cup qualification  "
      ]
     },
     "execution_count": 10,
     "metadata": {},
     "output_type": "execute_result"
    }
   ],
   "source": [
    "# Choosing recent matches because the FIFA ranking starts at 1993/8/8\n",
    "recent_matches = df.loc[(df['date'] >= \"1993-8-8\")]\n",
    "print(recent_matches.shape)\n",
    "recent_matches.head()"
   ]
  },
  {
   "cell_type": "code",
   "execution_count": 11,
   "metadata": {},
   "outputs": [
    {
     "name": "stdout",
     "output_type": "stream",
     "text": [
      "(10436, 6)\n"
     ]
    },
    {
     "data": {
      "text/html": [
       "<div>\n",
       "<style scoped>\n",
       "    .dataframe tbody tr th:only-of-type {\n",
       "        vertical-align: middle;\n",
       "    }\n",
       "\n",
       "    .dataframe tbody tr th {\n",
       "        vertical-align: top;\n",
       "    }\n",
       "\n",
       "    .dataframe thead th {\n",
       "        text-align: right;\n",
       "    }\n",
       "</style>\n",
       "<table border=\"1\" class=\"dataframe\">\n",
       "  <thead>\n",
       "    <tr style=\"text-align: right;\">\n",
       "      <th></th>\n",
       "      <th>date</th>\n",
       "      <th>home_team</th>\n",
       "      <th>away_team</th>\n",
       "      <th>home_score</th>\n",
       "      <th>away_score</th>\n",
       "      <th>tournament</th>\n",
       "    </tr>\n",
       "  </thead>\n",
       "  <tbody>\n",
       "    <tr>\n",
       "      <th>18233</th>\n",
       "      <td>1994-03-26</td>\n",
       "      <td>Nigeria</td>\n",
       "      <td>Gabon</td>\n",
       "      <td>3</td>\n",
       "      <td>0</td>\n",
       "      <td>African Cup of Nations</td>\n",
       "    </tr>\n",
       "    <tr>\n",
       "      <th>18235</th>\n",
       "      <td>1994-03-26</td>\n",
       "      <td>Tunisia</td>\n",
       "      <td>Mali</td>\n",
       "      <td>0</td>\n",
       "      <td>2</td>\n",
       "      <td>African Cup of Nations</td>\n",
       "    </tr>\n",
       "    <tr>\n",
       "      <th>18237</th>\n",
       "      <td>1994-03-27</td>\n",
       "      <td>Ghana</td>\n",
       "      <td>Guinea</td>\n",
       "      <td>1</td>\n",
       "      <td>0</td>\n",
       "      <td>African Cup of Nations</td>\n",
       "    </tr>\n",
       "    <tr>\n",
       "      <th>18238</th>\n",
       "      <td>1994-03-27</td>\n",
       "      <td>Ivory Coast</td>\n",
       "      <td>Sierra Leone</td>\n",
       "      <td>4</td>\n",
       "      <td>0</td>\n",
       "      <td>African Cup of Nations</td>\n",
       "    </tr>\n",
       "    <tr>\n",
       "      <th>18239</th>\n",
       "      <td>1994-03-28</td>\n",
       "      <td>Egypt</td>\n",
       "      <td>Gabon</td>\n",
       "      <td>4</td>\n",
       "      <td>0</td>\n",
       "      <td>African Cup of Nations</td>\n",
       "    </tr>\n",
       "  </tbody>\n",
       "</table>\n",
       "</div>"
      ],
      "text/plain": [
       "             date    home_team     away_team  home_score  away_score  \\\n",
       "18233  1994-03-26      Nigeria         Gabon           3           0   \n",
       "18235  1994-03-26      Tunisia          Mali           0           2   \n",
       "18237  1994-03-27        Ghana        Guinea           1           0   \n",
       "18238  1994-03-27  Ivory Coast  Sierra Leone           4           0   \n",
       "18239  1994-03-28        Egypt         Gabon           4           0   \n",
       "\n",
       "                   tournament  \n",
       "18233  African Cup of Nations  \n",
       "18235  African Cup of Nations  \n",
       "18237  African Cup of Nations  \n",
       "18238  African Cup of Nations  \n",
       "18239  African Cup of Nations  "
      ]
     },
     "execution_count": 11,
     "metadata": {},
     "output_type": "execute_result"
    }
   ],
   "source": [
    "# Choosing only competitive tournaments\n",
    "comp_tournaments = ['FIFA World Cup', 'FIFA World Cup qualification', 'UEFA Euro', 'UEFA Euro qualification', 'AFC Asian Cup', \n",
    "                       'AFC Asian Cup qualification', 'African Cup of Nations', 'African Cup of Nations qualification',\n",
    "                       'CONCACAF Championship', 'CONCACAF Championship qualification', 'Copa América', \n",
    "                       'Copa América qualification', 'Oceania Nations Cup', 'Oceania Nations Cup qualification']\n",
    "\n",
    "comp_matches = recent_matches.loc[recent_matches['tournament'].isin(comp_tournaments)]\n",
    "print(comp_matches.shape)\n",
    "comp_matches.head()"
   ]
  },
  {
   "cell_type": "code",
   "execution_count": 12,
   "metadata": {},
   "outputs": [
    {
     "name": "stdout",
     "output_type": "stream",
     "text": [
      "['East Timor', 'Saint Vincent and the Grenadines', 'Taiwan', 'Kyrgyzstan', 'North Korea', 'Brunei', 'Cape Verde', 'DR Congo', 'Eswatini', 'South Korea', 'United States', 'Burma', 'Ivory Coast', 'Saint Kitts and Nevis', 'Iran', 'Saint Lucia', 'United States Virgin Islands']\n"
     ]
    }
   ],
   "source": [
    "# Checking the difference in teams names between the two dataframes\n",
    "comp_matches_list = comp_matches.home_team.unique()\n",
    "fifa_ranking_df_list = fifa_ranking_df.country_full.unique()\n",
    "\n",
    "notFoundCountries = list(set(comp_matches_list) - set(fifa_ranking_df_list))\n",
    "print(notFoundCountries)"
   ]
  },
  {
   "cell_type": "code",
   "execution_count": 13,
   "metadata": {},
   "outputs": [],
   "source": [
    "# Making dictionary to change the conflicted names in FIFA ranking\n",
    "replacement_mapping_dict = {\n",
    "    \"St. Lucia\": \"Saint Lucia\",\n",
    "    \"Chinese Taipei\": \"Taiwan\",\n",
    "    \"USA\": \"United States\",\n",
    "    \"Côte d'Ivoire\": \"Ivory Coast\",\n",
    "    \"Korea Republic\": \"South Korea\",\n",
    "    \"St. Vincent / Grenadines\": \"Saint Vincent and the Grenadines\",\n",
    "    \"Timor-Leste\": \"East Timor\",\n",
    "    \"Korea DPR\": \"North Korea\",\n",
    "    \"Cabo Verde\": \"Cape Verde\",\n",
    "    \"Brunei Darussalam\": \"Brunei\",\n",
    "    \"Kyrgyz Republic\": \"Kyrgyzstan\",\n",
    "    \"IR Iran\": \"Iran\",\n",
    "    \"Congo DR\": \"DR Congo\",\n",
    "    \"Zaire\": \"DR Congo\",\n",
    "    \"St. Kitts and Nevis\": \"Saint Kitts and Nevis\",\n",
    "    \"Swaziland\": \"Eswatini\",\n",
    "    \"US Virgin Islands\": \"United States Virgin Islands\"\n",
    "}\n",
    "\n",
    "Myanmar_dict = {\n",
    "    \"Burma\": \"Myanmar\"\n",
    "}\n",
    "\n",
    "final_ranking = fifa_ranking_df\n",
    "final_ranking.replace({\"country_full\": replacement_mapping_dict},inplace=True)\n",
    "final_matches = comp_matches"
   ]
  },
  {
   "cell_type": "code",
   "execution_count": 14,
   "metadata": {},
   "outputs": [
    {
     "name": "stdout",
     "output_type": "stream",
     "text": [
      "(10017, 6)\n"
     ]
    }
   ],
   "source": [
    "# Droping some team matches because they don't have rank in FIFA ranking.\n",
    "# I know it's bad practise and I should create a list, but I didn't have time \n",
    "temp = final_matches.drop(final_matches[(final_matches['home_team'] == \"Papua New Guinea\") & (final_matches['date'] < \"1996-09-25\")].index)\n",
    "temp1 = temp.drop(temp[(temp['away_team'] == \"Papua New Guinea\") & (temp['date'] < \"1996-09-25\")].index)\n",
    "temp2 = temp1.drop(temp1[(temp1['home_team'] == \"New Caledonia\") & (temp1['date'] < \"2004-06-09\")].index)\n",
    "temp13 = temp2.drop(temp2[(temp2['away_team'] == \"New Caledonia\") & (temp2['date'] < \"2004-06-09\")].index)\n",
    "temp14 = temp13.drop(temp13[(temp13['home_team'] == \"American Samoa\") & (temp13['date'] < \"1998-10-21\")].index)\n",
    "temp15 = temp14.drop(temp14[(temp14['away_team'] == \"American Samoa\") & (temp14['date'] < \"1998-10-21\")].index)\n",
    "temp16 = temp15.drop(temp15[(temp15['home_team'] == \"Tonga\") & (temp15['date'] < \"1996-11-20\")].index)\n",
    "temp17 = temp16.drop(temp16[(temp16['away_team'] == \"Tonga\") & (temp16['date'] < \"1996-11-20\")].index)\n",
    "temp18 = temp17.drop(temp17[(temp17['home_team'] == \"Samoa\") & (temp17['date'] < \"1996-11-20\")].index)\n",
    "temp19 = temp18.drop(temp18[(temp18['away_team'] == \"Samoa\") & (temp18['date'] < \"1996-11-20\")].index)\n",
    "temp19 = temp19[(temp19.home_team != \"Serbia\") & (temp19.away_team != \"Serbia\")]\n",
    "temp19 = temp19[(temp19.home_team != \"Curaçao\") & (temp19.away_team != \"Curaçao\")]\n",
    "temp19 = temp19[(temp19.home_team != \"Burma\") & (temp19.away_team != \"Burma\")]\n",
    "temp19 = temp19[(temp19.home_team != \"Guam\") & (temp19.away_team != \"Guam\")]\n",
    "temp19 = temp19[(temp19.home_team != \"São Tomé and Príncipe\") & (temp19.away_team != \"São Tomé and Príncipe\")]\n",
    "temp19 = temp19[(temp19.home_team != \"Eritrea\") & (temp19.away_team != \"Eritrea\")]\n",
    "temp19 = temp19[(temp19.home_team != \"Bhutan\") & (temp19.away_team != \"Bhutan\")]\n",
    "temp19 = temp19[(temp19.home_team != \"East Timor\") & (temp19.away_team != \"East Timor\")]\n",
    "temp19 = temp19[(temp19.home_team != \"Gibraltar\") & (temp19.away_team != \"Gibraltar\")]\n",
    "temp19 = temp19[(temp19.home_team != \"Timor-Leste\") & (temp19.away_team != \"Timor-Leste\")]\n",
    "print(temp19.shape)"
   ]
  },
  {
   "cell_type": "code",
   "execution_count": 15,
   "metadata": {},
   "outputs": [
    {
     "name": "stdout",
     "output_type": "stream",
     "text": [
      "[]\n",
      "Empty DataFrame\n",
      "Columns: [date, home_team, away_team, home_score, away_score, tournament]\n",
      "Index: []\n"
     ]
    }
   ],
   "source": [
    "# Checking the difference in teams names between the two dataframes\n",
    "# Again\n",
    "final_matches = temp19\n",
    "\n",
    "final_matches_list = final_matches.home_team.unique()\n",
    "final_ranking_list = final_ranking.country_full.unique()\n",
    "\n",
    "temp3 = [item for item in final_matches_list if item not in final_ranking_list]\n",
    "print(temp3)\n",
    "print(final_matches.loc[(final_matches['home_team'] == \"Burma\")])"
   ]
  },
  {
   "cell_type": "markdown",
   "metadata": {},
   "source": [
    "# Section 4: Evaluation\n",
    "## Question 1: Does FIFA Ranking reflects the real results?\n",
    "### Analysis"
   ]
  },
  {
   "cell_type": "code",
   "execution_count": 17,
   "metadata": {},
   "outputs": [
    {
     "name": "stdout",
     "output_type": "stream",
     "text": [
      "q1_df is ready!\n"
     ]
    }
   ],
   "source": [
    "# Loop through each match and store the winner, the looser, ranks, if the higher team won and the rank difference in \n",
    "# new dataframe called q1_df\n",
    "# NOTE: this code may take 5-10 minutes to run XD\n",
    "fifa_ranking_df = final_ranking\n",
    "\n",
    "q1_df = pd.DataFrame(columns = [\"winner\", \"loser\", \"winnerRank\", \"loserRank\", \"higherWon\", \"rankDif\"])\n",
    "\n",
    "for index, row in final_matches.iterrows():\n",
    "    if row[\"home_score\"] > row[\"away_score\"]:\n",
    "        winner = row[\"home_team\"]\n",
    "        loser = row[\"away_team\"]\n",
    "        # Getting the winner and loser rows from FIFA ranking dataframe\n",
    "        winnerRankRow = fifa_ranking_df.loc[(fifa_ranking_df['country_full'] == winner) & (fifa_ranking_df['rank_date'] <= row[\"date\"])]\n",
    "        loserRankRow = fifa_ranking_df.loc[(fifa_ranking_df['country_full'] == loser) & (fifa_ranking_df['rank_date'] <= row[\"date\"])]\n",
    "    elif row[\"home_score\"] < row[\"away_score\"]:\n",
    "        winner = row[\"away_team\"]\n",
    "        loser = row[\"home_team\"]\n",
    "        # Getting the winner and loser rows from FIFA ranking dataframe\n",
    "        winnerRankRow = fifa_ranking_df.loc[(fifa_ranking_df['country_full'] == winner) & (fifa_ranking_df['rank_date'] <= row[\"date\"])]\n",
    "        loserRankRow = fifa_ranking_df.loc[(fifa_ranking_df['country_full'] == loser) & (fifa_ranking_df['rank_date'] <= row[\"date\"])]\n",
    "    else:\n",
    "        # If it's draw we will skip\n",
    "        continue\n",
    "        \n",
    "    \n",
    "    # Checking if the winner has better rank, and store 1 in isHigher if it is true\n",
    "    # Also calculating the rank difference\n",
    "    if winnerRankRow[\"rank\"].values[0] < loserRankRow[\"rank\"].values[0]:\n",
    "        isHigher = 1\n",
    "        rankDif = loserRankRow[\"rank\"].values[0] - winnerRankRow[\"rank\"].values[0]\n",
    "    else:\n",
    "        isHigher = 0\n",
    "        rankDif = winnerRankRow[\"rank\"].values[0] - loserRankRow[\"rank\"].values[0]\n",
    "        \n",
    "        \n",
    "    q1_df.loc[q1_df.shape[0]] = [winner, loser, winnerRankRow[\"rank\"].values[0], loserRankRow[\"rank\"].values[0], isHigher, rankDif]\n",
    "\n",
    "# It will print ready when it finish\n",
    "print(\"q1_df is ready!\")"
   ]
  },
  {
   "cell_type": "code",
   "execution_count": 18,
   "metadata": {},
   "outputs": [
    {
     "name": "stdout",
     "output_type": "stream",
     "text": [
      "(7849, 6)\n"
     ]
    },
    {
     "data": {
      "text/html": [
       "<div>\n",
       "<style scoped>\n",
       "    .dataframe tbody tr th:only-of-type {\n",
       "        vertical-align: middle;\n",
       "    }\n",
       "\n",
       "    .dataframe tbody tr th {\n",
       "        vertical-align: top;\n",
       "    }\n",
       "\n",
       "    .dataframe thead th {\n",
       "        text-align: right;\n",
       "    }\n",
       "</style>\n",
       "<table border=\"1\" class=\"dataframe\">\n",
       "  <thead>\n",
       "    <tr style=\"text-align: right;\">\n",
       "      <th></th>\n",
       "      <th>winner</th>\n",
       "      <th>loser</th>\n",
       "      <th>winnerRank</th>\n",
       "      <th>loserRank</th>\n",
       "      <th>higherWon</th>\n",
       "      <th>rankDif</th>\n",
       "    </tr>\n",
       "  </thead>\n",
       "  <tbody>\n",
       "    <tr>\n",
       "      <th>0</th>\n",
       "      <td>Nigeria</td>\n",
       "      <td>Gabon</td>\n",
       "      <td>13</td>\n",
       "      <td>55</td>\n",
       "      <td>1</td>\n",
       "      <td>42</td>\n",
       "    </tr>\n",
       "    <tr>\n",
       "      <th>1</th>\n",
       "      <td>Mali</td>\n",
       "      <td>Tunisia</td>\n",
       "      <td>69</td>\n",
       "      <td>38</td>\n",
       "      <td>0</td>\n",
       "      <td>31</td>\n",
       "    </tr>\n",
       "    <tr>\n",
       "      <th>2</th>\n",
       "      <td>Ghana</td>\n",
       "      <td>Guinea</td>\n",
       "      <td>39</td>\n",
       "      <td>63</td>\n",
       "      <td>1</td>\n",
       "      <td>24</td>\n",
       "    </tr>\n",
       "    <tr>\n",
       "      <th>3</th>\n",
       "      <td>Ivory Coast</td>\n",
       "      <td>Sierra Leone</td>\n",
       "      <td>27</td>\n",
       "      <td>79</td>\n",
       "      <td>1</td>\n",
       "      <td>52</td>\n",
       "    </tr>\n",
       "    <tr>\n",
       "      <th>4</th>\n",
       "      <td>Egypt</td>\n",
       "      <td>Gabon</td>\n",
       "      <td>21</td>\n",
       "      <td>55</td>\n",
       "      <td>1</td>\n",
       "      <td>34</td>\n",
       "    </tr>\n",
       "  </tbody>\n",
       "</table>\n",
       "</div>"
      ],
      "text/plain": [
       "        winner         loser winnerRank loserRank higherWon rankDif\n",
       "0      Nigeria         Gabon         13        55         1      42\n",
       "1         Mali       Tunisia         69        38         0      31\n",
       "2        Ghana        Guinea         39        63         1      24\n",
       "3  Ivory Coast  Sierra Leone         27        79         1      52\n",
       "4        Egypt         Gabon         21        55         1      34"
      ]
     },
     "execution_count": 18,
     "metadata": {},
     "output_type": "execute_result"
    }
   ],
   "source": [
    "print(q1_df.shape)\n",
    "q1_df.head()"
   ]
  },
  {
   "cell_type": "code",
   "execution_count": 19,
   "metadata": {},
   "outputs": [
    {
     "data": {
      "text/html": [
       "<div>\n",
       "<style scoped>\n",
       "    .dataframe tbody tr th:only-of-type {\n",
       "        vertical-align: middle;\n",
       "    }\n",
       "\n",
       "    .dataframe tbody tr th {\n",
       "        vertical-align: top;\n",
       "    }\n",
       "\n",
       "    .dataframe thead tr th {\n",
       "        text-align: left;\n",
       "    }\n",
       "\n",
       "    .dataframe thead tr:last-of-type th {\n",
       "        text-align: right;\n",
       "    }\n",
       "</style>\n",
       "<table border=\"1\" class=\"dataframe\">\n",
       "  <thead>\n",
       "    <tr>\n",
       "      <th></th>\n",
       "      <th>rankDif</th>\n",
       "      <th>higherWon</th>\n",
       "    </tr>\n",
       "    <tr>\n",
       "      <th></th>\n",
       "      <th>count</th>\n",
       "      <th>sum</th>\n",
       "    </tr>\n",
       "    <tr>\n",
       "      <th>rankDif</th>\n",
       "      <th></th>\n",
       "      <th></th>\n",
       "    </tr>\n",
       "  </thead>\n",
       "  <tbody>\n",
       "    <tr>\n",
       "      <th>(1, 10]</th>\n",
       "      <td>874</td>\n",
       "      <td>480</td>\n",
       "    </tr>\n",
       "    <tr>\n",
       "      <th>(10, 25]</th>\n",
       "      <td>1461</td>\n",
       "      <td>908</td>\n",
       "    </tr>\n",
       "    <tr>\n",
       "      <th>(25, 50]</th>\n",
       "      <td>1799</td>\n",
       "      <td>1252</td>\n",
       "    </tr>\n",
       "    <tr>\n",
       "      <th>(50, 100]</th>\n",
       "      <td>2248</td>\n",
       "      <td>1770</td>\n",
       "    </tr>\n",
       "    <tr>\n",
       "      <th>(100, 250]</th>\n",
       "      <td>1359</td>\n",
       "      <td>1198</td>\n",
       "    </tr>\n",
       "  </tbody>\n",
       "</table>\n",
       "</div>"
      ],
      "text/plain": [
       "           rankDif higherWon\n",
       "             count       sum\n",
       "rankDif                     \n",
       "(1, 10]        874       480\n",
       "(10, 25]      1461       908\n",
       "(25, 50]      1799      1252\n",
       "(50, 100]     2248      1770\n",
       "(100, 250]    1359      1198"
      ]
     },
     "execution_count": 19,
     "metadata": {},
     "output_type": "execute_result"
    }
   ],
   "source": [
    "# Divide the results to 6 bins and store the count matches and sum of isHigher columns in perc_df\n",
    "bins = pd.cut(q1_df['rankDif'], [1, 10, 25, 50, 100, 250])\n",
    "perc_df = q1_df.groupby(bins).agg({'rankDif': ['count'], 'higherWon': ['sum']})\n",
    "perc_df"
   ]
  },
  {
   "cell_type": "code",
   "execution_count": 20,
   "metadata": {},
   "outputs": [
    {
     "data": {
      "text/html": [
       "<div>\n",
       "<style scoped>\n",
       "    .dataframe tbody tr th:only-of-type {\n",
       "        vertical-align: middle;\n",
       "    }\n",
       "\n",
       "    .dataframe tbody tr th {\n",
       "        vertical-align: top;\n",
       "    }\n",
       "\n",
       "    .dataframe thead tr th {\n",
       "        text-align: left;\n",
       "    }\n",
       "\n",
       "    .dataframe thead tr:last-of-type th {\n",
       "        text-align: right;\n",
       "    }\n",
       "</style>\n",
       "<table border=\"1\" class=\"dataframe\">\n",
       "  <thead>\n",
       "    <tr>\n",
       "      <th></th>\n",
       "      <th>rankDif</th>\n",
       "      <th>higherWon</th>\n",
       "      <th>%_isHigher</th>\n",
       "    </tr>\n",
       "    <tr>\n",
       "      <th></th>\n",
       "      <th>count</th>\n",
       "      <th>sum</th>\n",
       "      <th></th>\n",
       "    </tr>\n",
       "    <tr>\n",
       "      <th>rankDif</th>\n",
       "      <th></th>\n",
       "      <th></th>\n",
       "      <th></th>\n",
       "    </tr>\n",
       "  </thead>\n",
       "  <tbody>\n",
       "    <tr>\n",
       "      <th>(1, 10]</th>\n",
       "      <td>874</td>\n",
       "      <td>480</td>\n",
       "      <td>54.919908</td>\n",
       "    </tr>\n",
       "    <tr>\n",
       "      <th>(10, 25]</th>\n",
       "      <td>1461</td>\n",
       "      <td>908</td>\n",
       "      <td>62.149213</td>\n",
       "    </tr>\n",
       "    <tr>\n",
       "      <th>(25, 50]</th>\n",
       "      <td>1799</td>\n",
       "      <td>1252</td>\n",
       "      <td>69.594219</td>\n",
       "    </tr>\n",
       "    <tr>\n",
       "      <th>(50, 100]</th>\n",
       "      <td>2248</td>\n",
       "      <td>1770</td>\n",
       "      <td>78.736655</td>\n",
       "    </tr>\n",
       "    <tr>\n",
       "      <th>(100, 250]</th>\n",
       "      <td>1359</td>\n",
       "      <td>1198</td>\n",
       "      <td>88.153054</td>\n",
       "    </tr>\n",
       "  </tbody>\n",
       "</table>\n",
       "</div>"
      ],
      "text/plain": [
       "           rankDif higherWon %_isHigher\n",
       "             count       sum           \n",
       "rankDif                                \n",
       "(1, 10]        874       480  54.919908\n",
       "(10, 25]      1461       908  62.149213\n",
       "(25, 50]      1799      1252  69.594219\n",
       "(50, 100]     2248      1770  78.736655\n",
       "(100, 250]    1359      1198  88.153054"
      ]
     },
     "execution_count": 20,
     "metadata": {},
     "output_type": "execute_result"
    }
   ],
   "source": [
    "# Calculating the percentage\n",
    "perc_df['%_isHigher'] = perc_df.loc[:, [('higherWon', 'sum')]].values / perc_df.loc[:, [('rankDif', 'count')]].values * 100\n",
    "perc_df"
   ]
  },
  {
   "cell_type": "markdown",
   "metadata": {},
   "source": [
    "### Visualisation"
   ]
  },
  {
   "cell_type": "code",
   "execution_count": 21,
   "metadata": {},
   "outputs": [
    {
     "data": {
      "text/plain": [
       "Text(0,0.5,'Win rate')"
      ]
     },
     "execution_count": 21,
     "metadata": {},
     "output_type": "execute_result"
    },
    {
     "data": {
      "image/png": "[encoded data removed]",
      "text/plain": [
       "<matplotlib.figure.Figure at 0x7f1657a71438>"
      ]
     },
     "metadata": {
      "needs_background": "light"
     },
     "output_type": "display_data"
    }
   ],
   "source": [
    "ax = perc_df.plot.bar(y = '%_isHigher', rot=0, title = \"Win rate relative to FIFA ranking\", ylim=(0,100), legend=False)\n",
    "ax.set_xlabel(\"Rank difference\")\n",
    "ax.set_ylabel(\"Win rate\")"
   ]
  },
  {
   "cell_type": "markdown",
   "metadata": {},
   "source": [
    "This bar chart shows that, the win rate increases as the gab between different team ranks expands. For example, if the difference between two teams is 10 ranks or less the win rate for the bigger team will be 54.9%, and if the difference is more than 100 the win rate is 88.1%. So, the chart clearly indicates that the FIFA World Ranking is reliable."
   ]
  },
  {
   "cell_type": "markdown",
   "metadata": {},
   "source": [
    "## Question 2: What confederation has the most wins in the World Cup?\n",
    "### Analysis"
   ]
  },
  {
   "cell_type": "code",
   "execution_count": 22,
   "metadata": {},
   "outputs": [
    {
     "name": "stdout",
     "output_type": "stream",
     "text": [
      "(894, 6)\n"
     ]
    },
    {
     "data": {
      "text/html": [
       "<div>\n",
       "<style scoped>\n",
       "    .dataframe tbody tr th:only-of-type {\n",
       "        vertical-align: middle;\n",
       "    }\n",
       "\n",
       "    .dataframe tbody tr th {\n",
       "        vertical-align: top;\n",
       "    }\n",
       "\n",
       "    .dataframe thead th {\n",
       "        text-align: right;\n",
       "    }\n",
       "</style>\n",
       "<table border=\"1\" class=\"dataframe\">\n",
       "  <thead>\n",
       "    <tr style=\"text-align: right;\">\n",
       "      <th></th>\n",
       "      <th>date</th>\n",
       "      <th>home_team</th>\n",
       "      <th>away_team</th>\n",
       "      <th>home_score</th>\n",
       "      <th>away_score</th>\n",
       "      <th>tournament</th>\n",
       "    </tr>\n",
       "  </thead>\n",
       "  <tbody>\n",
       "    <tr>\n",
       "      <th>1314</th>\n",
       "      <td>1930-07-13</td>\n",
       "      <td>Belgium</td>\n",
       "      <td>United States</td>\n",
       "      <td>0</td>\n",
       "      <td>3</td>\n",
       "      <td>FIFA World Cup</td>\n",
       "    </tr>\n",
       "    <tr>\n",
       "      <th>1315</th>\n",
       "      <td>1930-07-13</td>\n",
       "      <td>France</td>\n",
       "      <td>Mexico</td>\n",
       "      <td>4</td>\n",
       "      <td>1</td>\n",
       "      <td>FIFA World Cup</td>\n",
       "    </tr>\n",
       "    <tr>\n",
       "      <th>1316</th>\n",
       "      <td>1930-07-14</td>\n",
       "      <td>Brazil</td>\n",
       "      <td>Yugoslavia</td>\n",
       "      <td>1</td>\n",
       "      <td>2</td>\n",
       "      <td>FIFA World Cup</td>\n",
       "    </tr>\n",
       "    <tr>\n",
       "      <th>1317</th>\n",
       "      <td>1930-07-14</td>\n",
       "      <td>Peru</td>\n",
       "      <td>Romania</td>\n",
       "      <td>1</td>\n",
       "      <td>3</td>\n",
       "      <td>FIFA World Cup</td>\n",
       "    </tr>\n",
       "    <tr>\n",
       "      <th>1318</th>\n",
       "      <td>1930-07-15</td>\n",
       "      <td>Argentina</td>\n",
       "      <td>France</td>\n",
       "      <td>1</td>\n",
       "      <td>0</td>\n",
       "      <td>FIFA World Cup</td>\n",
       "    </tr>\n",
       "  </tbody>\n",
       "</table>\n",
       "</div>"
      ],
      "text/plain": [
       "            date  home_team      away_team  home_score  away_score  \\\n",
       "1314  1930-07-13    Belgium  United States           0           3   \n",
       "1315  1930-07-13     France         Mexico           4           1   \n",
       "1316  1930-07-14     Brazil     Yugoslavia           1           2   \n",
       "1317  1930-07-14       Peru        Romania           1           3   \n",
       "1318  1930-07-15  Argentina         France           1           0   \n",
       "\n",
       "          tournament  \n",
       "1314  FIFA World Cup  \n",
       "1315  FIFA World Cup  \n",
       "1316  FIFA World Cup  \n",
       "1317  FIFA World Cup  \n",
       "1318  FIFA World Cup  "
      ]
     },
     "execution_count": 22,
     "metadata": {},
     "output_type": "execute_result"
    }
   ],
   "source": [
    "# Choosing only World Cup matches\n",
    "world_cup_df = df.loc[df['tournament'] == 'FIFA World Cup']\n",
    "\n",
    "world_cup_df = world_cup_df[(world_cup_df.home_team != \"German DR\") & (world_cup_df.away_team != \"German DR\")]\n",
    "\n",
    "print(world_cup_df.shape)\n",
    "world_cup_df.head()"
   ]
  },
  {
   "cell_type": "code",
   "execution_count": 23,
   "metadata": {},
   "outputs": [
    {
     "data": {
      "text/html": [
       "<div>\n",
       "<style scoped>\n",
       "    .dataframe tbody tr th:only-of-type {\n",
       "        vertical-align: middle;\n",
       "    }\n",
       "\n",
       "    .dataframe tbody tr th {\n",
       "        vertical-align: top;\n",
       "    }\n",
       "\n",
       "    .dataframe thead th {\n",
       "        text-align: right;\n",
       "    }\n",
       "</style>\n",
       "<table border=\"1\" class=\"dataframe\">\n",
       "  <thead>\n",
       "    <tr style=\"text-align: right;\">\n",
       "      <th></th>\n",
       "      <th>Confederation</th>\n",
       "      <th>Count</th>\n",
       "      <th>Winner</th>\n",
       "    </tr>\n",
       "  </thead>\n",
       "  <tbody>\n",
       "  </tbody>\n",
       "</table>\n",
       "</div>"
      ],
      "text/plain": [
       "Empty DataFrame\n",
       "Columns: [Confederation, Count, Winner]\n",
       "Index: []"
      ]
     },
     "execution_count": 23,
     "metadata": {},
     "output_type": "execute_result"
    }
   ],
   "source": [
    "confed = pd.DataFrame(columns = [\"Confederation\", \"Count\", \"Winner\"])\n",
    "confed"
   ]
  },
  {
   "cell_type": "code",
   "execution_count": 26,
   "metadata": {},
   "outputs": [
    {
     "name": "stdout",
     "output_type": "stream",
     "text": [
      "confed is ready!\n"
     ]
    }
   ],
   "source": [
    "# This loop will store the team name and confederation in new dataframe\n",
    "for index, row in world_cup_df.iterrows():\n",
    "    if row[\"home_score\"] > row[\"away_score\"]:\n",
    "        winner = row[\"home_team\"]\n",
    "        winnerRow = fifa_ranking_df.loc[(fifa_ranking_df['country_full'] == winner)]\n",
    "        winnerConfederation = winnerRow[\"confederation\"].values[0]\n",
    "    elif row[\"home_score\"] < row[\"away_score\"]:\n",
    "        winner = row[\"away_team\"]\n",
    "        winnerRow = fifa_ranking_df.loc[(fifa_ranking_df['country_full'] == winner)]\n",
    "        winnerConfederation = winnerRow[\"confederation\"].values[0]\n",
    "    else:\n",
    "        continue\n",
    "    \n",
    "    \n",
    "    confed.loc[confed.shape[0]] = [winnerConfederation, 1, winnerRow[\"country_full\"].values[0]]\n",
    "\n",
    "# It will print ready when it finish\n",
    "print(\"confed is ready!\")"
   ]
  },
  {
   "cell_type": "markdown",
   "metadata": {},
   "source": [
    "### Visualisation"
   ]
  },
  {
   "cell_type": "code",
   "execution_count": 27,
   "metadata": {},
   "outputs": [
    {
     "data": {
      "image/png": "[encoded data removed]",
      "text/plain": [
       "<matplotlib.figure.Figure at 0x7f165794d2e8>"
      ]
     },
     "metadata": {},
     "output_type": "display_data"
    }
   ],
   "source": [
    "confed_sum = confed['Confederation'].value_counts()\n",
    "ax2 = confed_sum.plot.pie(subplots=True, figsize=(10, 10), shadow=False, startangle=90, autopct='%1.1f%%', explode=(0.1, 0.1, 0.1, 0.1, 0.1))"
   ]
  },
  {
   "cell_type": "markdown",
   "metadata": {},
   "source": [
    "The pie chart illustrates the percentages of each confederation’s wins. The Union of European Football Associations (UEFA) has the most wins over other regions with 63.6%. And with the quarter of wins The South American Football Confederation (CONMEBOL) comes in second. The other confederations won only 11.3% matches combined."
   ]
  },
  {
   "cell_type": "markdown",
   "metadata": {},
   "source": [
    "## Question 3: Who are the most dominant World Cup winners of all-time?\n",
    "### Analysis"
   ]
  },
  {
   "cell_type": "code",
   "execution_count": 29,
   "metadata": {},
   "outputs": [
    {
     "data": {
      "text/plain": [
       "Brazil       216\n",
       "Germany      201\n",
       "Italy        135\n",
       "Argentina    129\n",
       "France       102\n",
       "Name: Winner, dtype: int64"
      ]
     },
     "execution_count": 29,
     "metadata": {},
     "output_type": "execute_result"
    }
   ],
   "source": [
    "winner_sum = confed['Winner'].value_counts()\n",
    "winner_sum.head()"
   ]
  },
  {
   "cell_type": "markdown",
   "metadata": {},
   "source": [
    "### Visualisation"
   ]
  },
  {
   "cell_type": "code",
   "execution_count": 30,
   "metadata": {},
   "outputs": [
    {
     "data": {
      "image/png": "[encoded data removed]",
      "text/plain": [
       "<matplotlib.figure.Figure at 0x7f165793e9e8>"
      ]
     },
     "metadata": {
      "needs_background": "light"
     },
     "output_type": "display_data"
    }
   ],
   "source": [
    "ax3 = winner_sum[:10].plot.barh(rot=0, title = \"National teams wins in World Cup\", legend=False)\n",
    "ax3.set_xlabel(\"Wins\")\n",
    "ax3.set_ylabel(\"National Team\")\n",
    "ax3.invert_yaxis()"
   ]
  },
  {
   "cell_type": "markdown",
   "metadata": {},
   "source": [
    "The graph shows the number of wins of top 10 teams in the World Cup. Brazil and Germany dominated the tournament with 72 and 67 wins respectively. The top 10 teams are only from two confederations, 7 teams from UEFA and 2 teams from CONMEBOL."
   ]
  },
  {
   "cell_type": "code",
   "execution_count": null,
   "metadata": {},
   "outputs": [],
   "source": []
  }
 ],
 "metadata": {
  "kernelspec": {
   "display_name": "Python 3",
   "language": "python",
   "name": "python3"
  },
  "language_info": {
   "codemirror_mode": {
    "name": "ipython",
    "version": 3
   },
   "file_extension": ".py",
   "mimetype": "text/x-python",
   "name": "python",
   "nbconvert_exporter": "python",
   "pygments_lexer": "ipython3",
   "version": "3.6.3"
  }
 },
 "nbformat": 4,
 "nbformat_minor": 2
}
